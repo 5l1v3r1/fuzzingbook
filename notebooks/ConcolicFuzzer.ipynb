{
 "cells": [
  {
   "cell_type": "markdown",
   "metadata": {
    "button": false,
    "new_sheet": false,
    "run_control": {
     "read_only": false
    }
   },
   "source": [
    "# Concolic Fuzzing\n",
    "\n",
    "We have previously seen how one can use dynamic taints to produce more intelligent test cases than simply looking for program crashes. We have also seen how one can use the taints to update the grammar, and hence focus more on the dangerous methods. \n",
    "\n",
    "While taints are helpful, uninterpreted strings is only one of the attack vectors. Can we say anything more about the properties of variables at any point in the execution? For example, can we say for sure that a function will always receive the buffers with the correct length? Concolic execution offers a solution. With concolic execution, one can collect the constraints that an execution path encounters, and use it to answer questions about the program behavior at any point we prefer. We can even use concolic execution to enhance fuzzing.\n",
    "\n",
    "In this chapter, we explore in depth how to execute a Python function concolically, and how concolic execution can be used to enhance fuzzing."
   ]
  },
  {
   "cell_type": "markdown",
   "metadata": {
    "button": false,
    "new_sheet": false,
    "run_control": {
     "read_only": false
    }
   },
   "source": [
    "**Prerequisites**\n",
    "\n",
    "* You should have read the [chapter on coverage](Coverage.ipynb).\n",
    "* You should have read the [chapter on information flow](InformationFlow.ipynb).\n",
    "* A familiarity with the basic idea of [SMT solvers](https://en.wikipedia.org/wiki/Satisfiability_modulo_theories) would be useful."
   ]
  },
  {
   "cell_type": "markdown",
   "metadata": {},
   "source": [
    "We first setup our infrastructure so that we can make use of previously defined functions."
   ]
  },
  {
   "cell_type": "code",
   "execution_count": null,
   "metadata": {},
   "outputs": [],
   "source": [
    "import fuzzingbook_utils"
   ]
  },
  {
   "cell_type": "markdown",
   "metadata": {
    "toc-hr-collapsed": false
   },
   "source": [
    "## Tracking Constraints"
   ]
  },
  {
   "cell_type": "markdown",
   "metadata": {},
   "source": [
    "In the chapter on [information flow](InformationFlow), we have seen how dynamic taints can be used to direct fuzzing by indicating which part of input reached interesting places. However, dynamic taint tracking is limited in the information that it can propagate. For example, we might want to explore what happens when certain properties of the input changes."
   ]
  },
  {
   "cell_type": "markdown",
   "metadata": {},
   "source": [
    "For example, say we have a function `factorial()` that returns the *factorial value* of its input."
   ]
  },
  {
   "cell_type": "code",
   "execution_count": null,
   "metadata": {},
   "outputs": [],
   "source": [
    "def factorial(n):\n",
    "    if n < 0:\n",
    "        return None\n",
    "    if n == 0:\n",
    "        return 1\n",
    "    if n == 1:\n",
    "        return 1\n",
    "    v = 1\n",
    "    while n != 0:\n",
    "        v = v * n\n",
    "        n = n - 1\n",
    "    return v"
   ]
  },
  {
   "cell_type": "markdown",
   "metadata": {},
   "source": [
    "We exercise the function with a value of `5`."
   ]
  },
  {
   "cell_type": "code",
   "execution_count": null,
   "metadata": {},
   "outputs": [],
   "source": [
    "factorial(5)"
   ]
  },
  {
   "cell_type": "markdown",
   "metadata": {},
   "source": [
    "Is this sufficient to explore all the features of the function? How do we know? One way to verify that we have explored all features is to look at the coverage obtained. First we need to extend the `Coverage` class from the [chapter on coverage](Coverage.ipynb) to provide us with coverage arcs."
   ]
  },
  {
   "cell_type": "code",
   "execution_count": null,
   "metadata": {},
   "outputs": [],
   "source": [
    "from Coverage import Coverage"
   ]
  },
  {
   "cell_type": "code",
   "execution_count": null,
   "metadata": {},
   "outputs": [],
   "source": [
    "import inspect"
   ]
  },
  {
   "cell_type": "code",
   "execution_count": null,
   "metadata": {},
   "outputs": [],
   "source": [
    "class ArcCoverage(Coverage):\n",
    "    def traceit(self, frame, event, args):\n",
    "        if event != 'return':\n",
    "            f = inspect.getframeinfo(frame)\n",
    "            self._trace.append((f.function, f.lineno))\n",
    "        return self.traceit\n",
    "\n",
    "    def arcs(self):\n",
    "        t = [i for f, i in self._trace]\n",
    "        return list(zip(t, t[1:]))"
   ]
  },
  {
   "cell_type": "markdown",
   "metadata": {},
   "source": [
    "Next, we use the `Tracer` to obtain the coverage arcs."
   ]
  },
  {
   "cell_type": "code",
   "execution_count": null,
   "metadata": {},
   "outputs": [],
   "source": [
    "with ArcCoverage() as cov:\n",
    "    factorial(5)"
   ]
  },
  {
   "cell_type": "markdown",
   "metadata": {},
   "source": [
    "We can now use the coverage arcs to visualize the coverage obtained."
   ]
  },
  {
   "cell_type": "code",
   "execution_count": null,
   "metadata": {},
   "outputs": [],
   "source": [
    "from ControlFlow import PyCFG, CFGNode, to_graph, gen_cfg"
   ]
  },
  {
   "cell_type": "code",
   "execution_count": null,
   "metadata": {},
   "outputs": [],
   "source": [
    "from graphviz import Source, Graph"
   ]
  },
  {
   "cell_type": "code",
   "execution_count": null,
   "metadata": {},
   "outputs": [],
   "source": [
    "Source(to_graph(gen_cfg(inspect.getsource(factorial)), arcs=cov.arcs()))"
   ]
  },
  {
   "cell_type": "markdown",
   "metadata": {},
   "source": [
    "We see that the path `[1, 2, 4, 6, 8, 9, 10, 11, 12]` is covered but sub-paths such as  `[2, 3]`,  `[4, 5]` and `[6, 7]` are unexplored. What we need is the ability to generate inputs such that the `True` branch is taken at `2`. How do we do that?\n",
    "\n",
    "## Concolic Execution\n",
    "\n",
    "One way is to look at the execution path being taken, and collect the conditional constraints that the path encounters. Then we can try to produce inputs that lead us to taking the non-traversed path.\n",
    "\n",
    "First, let us step through the function."
   ]
  },
  {
   "cell_type": "code",
   "execution_count": null,
   "metadata": {},
   "outputs": [],
   "source": [
    "lines = [i[1] for i in cov._trace if i[0] == 'factorial']\n",
    "src = {i+1:s for i,s in enumerate(inspect.getsource(factorial).split('\\n'))}"
   ]
  },
  {
   "cell_type": "markdown",
   "metadata": {},
   "source": [
    "* The line (1) is simply the entry point of the function. We know that the input is `n`, which is an integer."
   ]
  },
  {
   "cell_type": "code",
   "execution_count": null,
   "metadata": {},
   "outputs": [],
   "source": [
    "src[1]"
   ]
  },
  {
   "cell_type": "markdown",
   "metadata": {},
   "source": [
    "* The line (2) is a predicate `n < 0`. Since the next line taken is line (4), we know that at this point in the execution path, the predicate was `true`."
   ]
  },
  {
   "cell_type": "code",
   "execution_count": null,
   "metadata": {},
   "outputs": [],
   "source": [
    "src[2], src[3], src[4]"
   ]
  },
  {
   "cell_type": "markdown",
   "metadata": {},
   "source": [
    "We notice that this is one of the predicates where the `true` branch was not taken. How do we generate a value that takes the `true` branch here? One way is to use symbolic variables to represent the input, encode the constraint, and use an *SMT Solver* to solve the negation of the constraint."
   ]
  },
  {
   "cell_type": "markdown",
   "metadata": {},
   "source": [
    "A symbolic variable can be thought of as a sort of placeholder for the real variable, sort of like the `x` in solving for `x` in Algebra. We identify what constraints the variable is supposed to obey, and finally produce a value that obeys all constraints imposed.\n",
    "\n",
    "We first import an SMT solver, *Z3*."
   ]
  },
  {
   "cell_type": "code",
   "execution_count": null,
   "metadata": {},
   "outputs": [],
   "source": [
    "import z3"
   ]
  },
  {
   "cell_type": "markdown",
   "metadata": {},
   "source": [
    "Encoding the constraint requires declaring a corresponding symbolic variable to the input `n`."
   ]
  },
  {
   "cell_type": "code",
   "execution_count": null,
   "metadata": {},
   "outputs": [],
   "source": [
    "zn = z3.Int('n')"
   ]
  },
  {
   "cell_type": "markdown",
   "metadata": {},
   "source": [
    "We can now encode the constraint as follows."
   ]
  },
  {
   "cell_type": "code",
   "execution_count": null,
   "metadata": {},
   "outputs": [],
   "source": [
    "zn < 0"
   ]
  },
  {
   "cell_type": "markdown",
   "metadata": {},
   "source": [
    "We use *Z3* to verify that the input `5` would actually result in negation of this constraint."
   ]
  },
  {
   "cell_type": "code",
   "execution_count": null,
   "metadata": {},
   "outputs": [],
   "source": [
    "z3.solve(z3.And(z3.Not(zn < 0), zn == 5))"
   ]
  },
  {
   "cell_type": "markdown",
   "metadata": {},
   "source": [
    "Similarly, we can ask *Z3* for an input that satisfies the constraint."
   ]
  },
  {
   "cell_type": "code",
   "execution_count": null,
   "metadata": {},
   "outputs": [],
   "source": [
    "z3.solve(zn < 0)"
   ]
  },
  {
   "cell_type": "markdown",
   "metadata": {},
   "source": [
    "Let us try using that with our coverage."
   ]
  },
  {
   "cell_type": "code",
   "execution_count": null,
   "metadata": {},
   "outputs": [],
   "source": [
    "with cov as cov:\n",
    "    factorial(-1)"
   ]
  },
  {
   "cell_type": "code",
   "execution_count": null,
   "metadata": {},
   "outputs": [],
   "source": [
    "Source(to_graph(gen_cfg(inspect.getsource(factorial)), arcs=cov.arcs()))"
   ]
  },
  {
   "cell_type": "markdown",
   "metadata": {},
   "source": [
    "Ok, so we have managed to cover a little more of the graph. Let us continue with our original input of `factorial(5)`:\n",
    "* In line (4) we encounter a new predicate `n == 0`, for which we again took the false branch."
   ]
  },
  {
   "cell_type": "code",
   "execution_count": null,
   "metadata": {},
   "outputs": [],
   "source": [
    "src[4]"
   ]
  },
  {
   "cell_type": "markdown",
   "metadata": {},
   "source": [
    "The predicates required to follow the path until this point is as follows."
   ]
  },
  {
   "cell_type": "code",
   "execution_count": null,
   "metadata": {},
   "outputs": [],
   "source": [
    "predicates = [z3.Not(zn < 0), z3.Not(zn == 0)]"
   ]
  },
  {
   "cell_type": "markdown",
   "metadata": {},
   "source": [
    "* If we continue to line (6), we encounter another predicate, for which again, we took the `false` branch"
   ]
  },
  {
   "cell_type": "code",
   "execution_count": null,
   "metadata": {},
   "outputs": [],
   "source": [
    "src[6]"
   ]
  },
  {
   "cell_type": "markdown",
   "metadata": {},
   "source": [
    "The predicates encountered so far is as follows"
   ]
  },
  {
   "cell_type": "code",
   "execution_count": null,
   "metadata": {},
   "outputs": [],
   "source": [
    "predicates = [z3.Not(zn < 0), z3.Not(zn == 0), z3.Not(zn == 1)]"
   ]
  },
  {
   "cell_type": "markdown",
   "metadata": {},
   "source": [
    "To take the branch at (6), we essentially have to obey the predicates until that point, but invert the last predicate."
   ]
  },
  {
   "cell_type": "code",
   "execution_count": null,
   "metadata": {},
   "outputs": [],
   "source": [
    "last = len(predicates) - 1\n",
    "z3.solve(predicates[0:-1] + [z3.Not(predicates[-1])])"
   ]
  },
  {
   "cell_type": "markdown",
   "metadata": {},
   "source": [
    "What we are doing here is tracing the execution corresponding to a particular input `factorial(5)`, using concrete values, and along with it, keeping *symbolic shadow variables* that enable us to capture the constraints. This particular method of execution where one combines concrete and symbolic execution is called *Concolic Execution*"
   ]
  },
  {
   "cell_type": "markdown",
   "metadata": {
    "toc-hr-collapsed": true
   },
   "source": [
    "### Concolic Wrappers"
   ]
  },
  {
   "cell_type": "code",
   "execution_count": null,
   "metadata": {},
   "outputs": [],
   "source": [
    "from InformationFlow import *"
   ]
  },
  {
   "cell_type": "markdown",
   "metadata": {},
   "source": [
    "We first define a class for taking care of wrapping arguments and providing context. It accepts the function to be traced concolically."
   ]
  },
  {
   "cell_type": "code",
   "execution_count": null,
   "metadata": {},
   "outputs": [],
   "source": [
    "class ConcolicTracer:\n",
    "    def __init__(self, info=None):\n",
    "        self.info = info if info is not None else ({}, [])\n",
    "        self.decls, self.path = self.info\n",
    "\n",
    "    def __enter__(self):\n",
    "        return self\n",
    "\n",
    "    def __exit__(self, exc_type, exc_value, tb):\n",
    "        return\n",
    "\n",
    "    def __getitem__(self, fn):\n",
    "        self.fn = fn\n",
    "        self.fn_args = {\n",
    "            i: None for i in list(\n",
    "                inspect.signature(fn).parameters)}\n",
    "        return self\n",
    "\n",
    "    def __call__(self, *args):\n",
    "        self.result = self.fn(*self.prepare_args(args))\n",
    "        return self.result"
   ]
  },
  {
   "cell_type": "markdown",
   "metadata": {},
   "source": [
    "For ease of use, we use an [SMT solver](https://en.wikipedia.org/wiki/Satisfiability_modulo_theories) called [z3](http://theory.stanford.edu/~nikolaj/programmingz3.html). *Z3* allows us to both encode the constraints encountered in _symbolic variables_ and also to solve these constraints at the end.   A *symbolic variable* can be thought of as a sort of placeholder for the real variable, sort of like the `x` in solving for `x` in Algebra. We identify what conditions the variable is supposed to obey, and finally produce a value that obeys all."
   ]
  },
  {
   "cell_type": "code",
   "execution_count": null,
   "metadata": {},
   "outputs": [],
   "source": [
    "import z3"
   ]
  },
  {
   "cell_type": "code",
   "execution_count": null,
   "metadata": {},
   "outputs": [],
   "source": [
    "z3.get_version()  # should be 4.8.5"
   ]
  },
  {
   "cell_type": "markdown",
   "metadata": {},
   "source": [
    "We also need to make sure that the latest `z3str3` solver is used, and the timeout is 30 seconds."
   ]
  },
  {
   "cell_type": "code",
   "execution_count": null,
   "metadata": {},
   "outputs": [],
   "source": [
    "z3.set_option('smt.string_solver', 'z3str3')\n",
    "z3.set_option('timeout', 30 * 1000)  # milliseconds"
   ]
  },
  {
   "cell_type": "markdown",
   "metadata": {},
   "source": [
    "We can declare symbolic variables as below"
   ]
  },
  {
   "cell_type": "code",
   "execution_count": null,
   "metadata": {},
   "outputs": [],
   "source": [
    "a, b, c = z3.Int('a'), z3.Int('b'), z3.Int('c')"
   ]
  },
  {
   "cell_type": "markdown",
   "metadata": {},
   "source": [
    "With these, we can now capture constraints such as below"
   ]
  },
  {
   "cell_type": "code",
   "execution_count": null,
   "metadata": {},
   "outputs": [],
   "source": [
    "eqs = z3.And(a == b, a != c, b != c)\n",
    "eqs"
   ]
  },
  {
   "cell_type": "markdown",
   "metadata": {},
   "source": [
    "The _z3_ SMT solver can also be used to solve such a system of equations as follows"
   ]
  },
  {
   "cell_type": "code",
   "execution_count": null,
   "metadata": {},
   "outputs": [],
   "source": [
    "z3.solve(eqs)"
   ]
  },
  {
   "cell_type": "markdown",
   "metadata": {},
   "source": [
    "The SMT solver will respond with _no solutions_ if no solutions could be found."
   ]
  },
  {
   "cell_type": "code",
   "execution_count": null,
   "metadata": {},
   "outputs": [],
   "source": [
    "z3.solve(z3.And(a == b, a == c, b != c))"
   ]
  },
  {
   "cell_type": "markdown",
   "metadata": {},
   "source": [
    "We use these symbolic variables to capture constraints in the concolic wrapper classes we define below."
   ]
  },
  {
   "cell_type": "markdown",
   "metadata": {},
   "source": [
    "#### zbool"
   ]
  },
  {
   "cell_type": "markdown",
   "metadata": {},
   "source": [
    "First, we define the `zbool` class which is used to track the predicates encountered. It is a wrapper class that contains both symbolic (`z`) as well as concrete (`v`) values. The concrete value is used to determine which path to take, and the symbolic value is used to collect the predicates encountered."
   ]
  },
  {
   "cell_type": "code",
   "execution_count": null,
   "metadata": {},
   "outputs": [],
   "source": [
    "class zbool:\n",
    "    @classmethod\n",
    "    def create(cls, info, zn, v):\n",
    "        zv = zbool(info, z3.Bool(zn), v)\n",
    "        info[0][zn] = 'Bool'\n",
    "        return z\n",
    "\n",
    "    def __init__(self, info, z, v=None):\n",
    "        self.info, self.z, self.v = info, z, v\n",
    "\n",
    "    def __not__(self):\n",
    "        return zbool(self.info, z3.Not(self.z), not self.v)\n",
    "\n",
    "    def __bool__(self):\n",
    "        r, pred = (True, self.z) if self.v else (False, z3.Not(self.z))\n",
    "        self.info[1].append(pred)\n",
    "        return r"
   ]
  },
  {
   "cell_type": "markdown",
   "metadata": {},
   "source": [
    "The `zbool` class can be used to keep track of boolean values and conditions encountered during the execution as below."
   ]
  },
  {
   "cell_type": "code",
   "execution_count": null,
   "metadata": {},
   "outputs": [],
   "source": [
    "with ConcolicTracer() as _:\n",
    "    za, zb, zc = z3.Ints('a b c')\n",
    "    ca, cb, cc = 1, 1, 2\n",
    "    if zbool(_.info, za == zb, ca == cb):\n",
    "        if zbool(_.info, zb == zc, cb == cc):\n",
    "            print('equilateral')\n",
    "        else:\n",
    "            print('isosceles')"
   ]
  },
  {
   "cell_type": "markdown",
   "metadata": {},
   "source": [
    "We can retrieve the predicates encountered as follows."
   ]
  },
  {
   "cell_type": "code",
   "execution_count": null,
   "metadata": {},
   "outputs": [],
   "source": [
    "z3.And(_.path).sexpr()"
   ]
  },
  {
   "cell_type": "markdown",
   "metadata": {},
   "source": [
    "#### zint"
   ]
  },
  {
   "cell_type": "markdown",
   "metadata": {},
   "source": [
    "Next, we define a symbolic wrapper `zint` for `int`.\n",
    "\n",
    "The class keeps track of the int variables used and the predicates encountered in `info`. Finally, it also keeps the concrete value used so that it can be used to determine the path to take."
   ]
  },
  {
   "cell_type": "code",
   "execution_count": null,
   "metadata": {},
   "outputs": [],
   "source": [
    "class zint(int):\n",
    "    def __new__(cls, info, zn, v, *args, **kw):\n",
    "        return int.__new__(cls, v, *args, **kw)\n",
    "\n",
    "    @classmethod\n",
    "    def create(cls, info, zn, v=None):\n",
    "        zv = zint(info, z3.Int(zn), v)\n",
    "        info[0][zn] = 'Int'\n",
    "        return zv\n",
    "\n",
    "    def __init__(self, info, z, v=None):\n",
    "        self.z, self.v = z, v\n",
    "        self.info = info\n",
    "\n",
    "    def zv(self, o):\n",
    "        return (o.z, o.v) if isinstance(o, zint) else (z3.IntVal(o), o)\n",
    "\n",
    "    def __ne__(self, other):\n",
    "        z, v = self.zv(other)\n",
    "        return zbool(self.info, self.z != z, self.v != v)\n",
    "\n",
    "    def __eq__(self, other):\n",
    "        z, v = self.zv(other)\n",
    "        return zbool(self.info, self.z == z, self.v == v)\n",
    "\n",
    "    def __lt__(self, other):\n",
    "        z, v = self.zv(other)\n",
    "        return zbool(self.info, self.z < z, self.v < v)\n",
    "\n",
    "    def __gt__(self, other):\n",
    "        z, v = self.zv(other)\n",
    "        return zbool(self.info, self.z > z, self.v > v)\n",
    "\n",
    "    def __req__(self, other):\n",
    "        return self.__eq__(other)"
   ]
  },
  {
   "cell_type": "markdown",
   "metadata": {},
   "source": [
    "Using these proxies is similar to our taint tracking proxies."
   ]
  },
  {
   "cell_type": "markdown",
   "metadata": {},
   "source": [
    "While using the proxy classes, we often will have to generate new symbolic variables, with names that have not been used before. For this, we define `fresh_name()` that always generates unique integers for names."
   ]
  },
  {
   "cell_type": "code",
   "execution_count": null,
   "metadata": {},
   "outputs": [],
   "source": [
    "COUNTER = 0"
   ]
  },
  {
   "cell_type": "code",
   "execution_count": null,
   "metadata": {},
   "outputs": [],
   "source": [
    "def fresh_name():\n",
    "    global COUNTER\n",
    "    COUNTER += 1\n",
    "    return COUNTER"
   ]
  },
  {
   "cell_type": "markdown",
   "metadata": {},
   "source": [
    " We wrap the arguments with appropriate classes using `ConcolicTracer`."
   ]
  },
  {
   "cell_type": "code",
   "execution_count": null,
   "metadata": {},
   "outputs": [],
   "source": [
    "class ConcolicTracer(ConcolicTracer):\n",
    "    def prepare_args(self, args):\n",
    "        my_args = []\n",
    "        for name, arg in zip(self.fn_args, args):\n",
    "            t = type(arg).__name__\n",
    "            zwrap = globals()['z' + t]\n",
    "            vname = \"%s_%s_%s_%s\" % (self.fn.__name__, name, t, fresh_name())\n",
    "            my_args.append(zwrap.create(self.info, vname, arg))\n",
    "            self.fn_args[name] = vname\n",
    "        return my_args"
   ]
  },
  {
   "cell_type": "code",
   "execution_count": null,
   "metadata": {},
   "outputs": [],
   "source": [
    "class ConcolicTracer(ConcolicTracer):\n",
    "    def pred(self, show_decl=False, simplify=False):\n",
    "        r = []\n",
    "        if show_decl:\n",
    "            for decl in self.decls:\n",
    "                v = self.decls[decl]\n",
    "                v = '(_ BitVec 8)' if v == 'BitVec' else v\n",
    "                r.append(\"(declare-const %s %s)\" % (decl, v))\n",
    "        if self.path:\n",
    "            if show_decl:\n",
    "                if simplify:\n",
    "                    return '\\n'.join([*r, \"(assert %s)\" %\n",
    "                                      z3.simplify(z3.And(self.path)).sexpr()])\n",
    "                else:\n",
    "                    return '\\n'.join([*r, \"(assert %s)\" %\n",
    "                                      z3.And(self.path).sexpr()])\n",
    "            else:\n",
    "                return z3.simplify(z3.And(self.path)).sexpr()\n",
    "        else:\n",
    "            return ''"
   ]
  },
  {
   "cell_type": "markdown",
   "metadata": {},
   "source": [
    "Next, we invoke the function under `ConcolicTracer`"
   ]
  },
  {
   "cell_type": "code",
   "execution_count": null,
   "metadata": {},
   "outputs": [],
   "source": [
    "with ConcolicTracer() as _:\n",
    "    result = _[abs_value](1)"
   ]
  },
  {
   "cell_type": "markdown",
   "metadata": {},
   "source": [
    "The predicates encountered are captured in the `path`"
   ]
  },
  {
   "cell_type": "code",
   "execution_count": null,
   "metadata": {},
   "outputs": [],
   "source": [
    "_.pred()"
   ]
  },
  {
   "cell_type": "markdown",
   "metadata": {},
   "source": [
    "If we want to solve the path conditions again, we simply need to declare the symbolic variables"
   ]
  },
  {
   "cell_type": "code",
   "execution_count": null,
   "metadata": {},
   "outputs": [],
   "source": [
    "for decl in _.decls:\n",
    "    v = \"z3.%s('%s')\" % (_.decls[decl], decl)\n",
    "    print(v)\n",
    "    exec(v)"
   ]
  },
  {
   "cell_type": "markdown",
   "metadata": {},
   "source": [
    "And call `smt.solve()` on the `path`."
   ]
  },
  {
   "cell_type": "code",
   "execution_count": null,
   "metadata": {},
   "outputs": [],
   "source": [
    "z3.solve(_.path)"
   ]
  },
  {
   "cell_type": "markdown",
   "metadata": {},
   "source": [
    "If we want to explore other paths, we simply need to invert the corresponding predicate."
   ]
  },
  {
   "cell_type": "code",
   "execution_count": null,
   "metadata": {},
   "outputs": [],
   "source": [
    "z3.solve(z3.Not(_.path[0]))"
   ]
  },
  {
   "cell_type": "markdown",
   "metadata": {},
   "source": [
    "We can verify that the path taken is as expected."
   ]
  },
  {
   "cell_type": "code",
   "execution_count": null,
   "metadata": {},
   "outputs": [],
   "source": [
    "with ArcCoverage() as cov:\n",
    "    abs_value(-1)"
   ]
  },
  {
   "cell_type": "code",
   "execution_count": null,
   "metadata": {},
   "outputs": [],
   "source": [
    "Source(to_graph(gen_cfg(inspect.getsource(abs_value)), arcs=cov.arcs()))"
   ]
  },
  {
   "cell_type": "markdown",
   "metadata": {},
   "source": [
    "Here is another function that gives you the nearest ten's multiplier"
   ]
  },
  {
   "cell_type": "code",
   "execution_count": null,
   "metadata": {},
   "outputs": [],
   "source": [
    "def round10(r):\n",
    "    while r % 10 != 0:\n",
    "        r += 1\n",
    "    return r"
   ]
  },
  {
   "cell_type": "markdown",
   "metadata": {},
   "source": [
    "For dealing with this, we need a few more helper methods."
   ]
  },
  {
   "cell_type": "code",
   "execution_count": null,
   "metadata": {},
   "outputs": [],
   "source": [
    "class zint(zint):\n",
    "    def __add__(self, other):\n",
    "        z, v = self.zv(other)\n",
    "        return zint(self.info, z + self.z, self.v + v)  # z3 bug\n",
    "\n",
    "    def __radd__(self, other):\n",
    "        return self.__add__(other)\n",
    "\n",
    "    def __mod__(self, other):\n",
    "        z, v = self.zv(other)\n",
    "        return zint(self.info, self.z % z, self.v % v)\n",
    "\n",
    "    def __neg__(self):\n",
    "        return zint(self.info, -self.z, -self.v)"
   ]
  },
  {
   "cell_type": "markdown",
   "metadata": {},
   "source": [
    "As before, we execute the function under the `ConcolicTracer` context."
   ]
  },
  {
   "cell_type": "code",
   "execution_count": null,
   "metadata": {},
   "outputs": [],
   "source": [
    "with ConcolicTracer() as _:\n",
    "    r = _[round10](1)"
   ]
  },
  {
   "cell_type": "markdown",
   "metadata": {},
   "source": [
    "We verify that it has worked as expected."
   ]
  },
  {
   "cell_type": "code",
   "execution_count": null,
   "metadata": {},
   "outputs": [],
   "source": [
    "_.info"
   ]
  },
  {
   "cell_type": "markdown",
   "metadata": {},
   "source": [
    "The predicates encountered can be seen in the path."
   ]
  },
  {
   "cell_type": "code",
   "execution_count": null,
   "metadata": {},
   "outputs": [],
   "source": [
    "for decl in _.decls:\n",
    "    v = \"(declare-const %s %s)\" % (decl, _.decls[decl])\n",
    "    print(v)\n",
    "print(_.pred())"
   ]
  },
  {
   "cell_type": "markdown",
   "metadata": {},
   "source": [
    "Does `zint` work across functions? Say we have a function `max_value()` as below."
   ]
  },
  {
   "cell_type": "code",
   "execution_count": null,
   "metadata": {},
   "outputs": [],
   "source": [
    "def abs_max(a, b):\n",
    "    a1 = abs_value(a)\n",
    "    b1 = abs_value(b)\n",
    "    if a1 > b1:\n",
    "        c = a1\n",
    "    else:\n",
    "        c = b1\n",
    "    return c"
   ]
  },
  {
   "cell_type": "markdown",
   "metadata": {},
   "source": [
    "Using the `Concolic()` context on `abs_max()`."
   ]
  },
  {
   "cell_type": "code",
   "execution_count": null,
   "metadata": {},
   "outputs": [],
   "source": [
    "with ConcolicTracer() as _:\n",
    "    _[abs_max](2, 1)"
   ]
  },
  {
   "cell_type": "markdown",
   "metadata": {},
   "source": [
    "As expected, we have the predicates across functions."
   ]
  },
  {
   "cell_type": "code",
   "execution_count": null,
   "metadata": {},
   "outputs": [],
   "source": [
    "_.info"
   ]
  },
  {
   "cell_type": "markdown",
   "metadata": {},
   "source": [
    "Using negative numbers makes it behave as expected."
   ]
  },
  {
   "cell_type": "code",
   "execution_count": null,
   "metadata": {},
   "outputs": [],
   "source": [
    "with ConcolicTracer() as _:\n",
    "    _[abs_max](-2, -1)"
   ]
  },
  {
   "cell_type": "code",
   "execution_count": null,
   "metadata": {},
   "outputs": [],
   "source": [
    "_.info"
   ]
  },
  {
   "cell_type": "markdown",
   "metadata": {},
   "source": [
    "We define `zeval()` to make the process of evaluation simpler."
   ]
  },
  {
   "cell_type": "code",
   "execution_count": null,
   "metadata": {},
   "outputs": [],
   "source": [
    "def zeval_direct(path, cc):\n",
    "    s = cc.pred(True, True)\n",
    "    with open('_.smt', 'w+') as f:\n",
    "        f.write(s)\n",
    "        f.write(\"\\n(check-sat)\\n(get-model)\")"
   ]
  },
  {
   "cell_type": "code",
   "execution_count": null,
   "metadata": {},
   "outputs": [],
   "source": [
    "def zeval_py(path, cc):\n",
    "    for decl in cc.decls:\n",
    "        v = \"z3.%s('%s')\" % (cc.decls[decl], decl)\n",
    "        exec(v)\n",
    "    s = z3.Solver()\n",
    "    s.add(z3.And(path))\n",
    "    if s.check() != z3.sat:\n",
    "        return 'No solution'\n",
    "    m = s.model()\n",
    "    solutions = {d.name(): m[d] for d in m.decls()}\n",
    "    my_args = {k: solutions.get(cc.fn_args[k], None) for k in cc.fn_args}\n",
    "    return my_args"
   ]
  },
  {
   "cell_type": "code",
   "execution_count": null,
   "metadata": {},
   "outputs": [],
   "source": [
    "def zeval(cc, direct=False):\n",
    "    if direct:\n",
    "        return zeval_direct(cc.path, cc)\n",
    "    else:\n",
    "        return zeval_py(cc.path, cc)"
   ]
  },
  {
   "cell_type": "code",
   "execution_count": null,
   "metadata": {},
   "outputs": [],
   "source": [
    "zeval(_)"
   ]
  },
  {
   "cell_type": "markdown",
   "metadata": {},
   "source": [
    "Sometimes the Python version can be a little buggy. In that case, we can use z3 directly for evaluating the symbolic expressions."
   ]
  },
  {
   "cell_type": "code",
   "execution_count": null,
   "metadata": {},
   "outputs": [],
   "source": [
    "zeval(_, True)"
   ]
  },
  {
   "cell_type": "code",
   "execution_count": null,
   "metadata": {},
   "outputs": [],
   "source": [
    "!cat _.smt"
   ]
  },
  {
   "cell_type": "code",
   "execution_count": null,
   "metadata": {},
   "outputs": [],
   "source": [
    "!z3 _.smt"
   ]
  },
  {
   "cell_type": "markdown",
   "metadata": {},
   "source": [
    "#### zstr\n",
    "\n",
    "Here, we define the wrappers for strings `zstr`."
   ]
  },
  {
   "cell_type": "markdown",
   "metadata": {},
   "source": [
    "First, we define `zord` that given a symbolic one character long string, obtains the `ord()` for that. It returns two values. The first one is the variable that corresponds to `ord()`, and second is the predicate that links the variable to the passed in single character string."
   ]
  },
  {
   "cell_type": "code",
   "execution_count": null,
   "metadata": {},
   "outputs": [],
   "source": [
    "def zord(info, c):\n",
    "    bn = \"bitvec_%d\" % fresh_name()\n",
    "    v = z3.BitVec(bn, 8)\n",
    "    info[0][bn] = 'BitVec'\n",
    "    z = (z3.Unit(v) == c)\n",
    "    info[1].append(z)\n",
    "    return v"
   ]
  },
  {
   "cell_type": "markdown",
   "metadata": {},
   "source": [
    "We use it as follows"
   ]
  },
  {
   "cell_type": "code",
   "execution_count": null,
   "metadata": {},
   "outputs": [],
   "source": [
    "zc = z3.String('arg_%d' % fresh_name())"
   ]
  },
  {
   "cell_type": "code",
   "execution_count": null,
   "metadata": {},
   "outputs": [],
   "source": [
    "with ConcolicTracer() as _:\n",
    "    zi = zord(_.info, zc)"
   ]
  },
  {
   "cell_type": "markdown",
   "metadata": {},
   "source": [
    "The symbolic bitvector is in `zi`. It is linked to the passed in argument in `info`"
   ]
  },
  {
   "cell_type": "code",
   "execution_count": null,
   "metadata": {},
   "outputs": [],
   "source": [
    "_.info"
   ]
  },
  {
   "cell_type": "markdown",
   "metadata": {},
   "source": [
    "We can specify what the result of `ord()` should be, and call `z3.solve()` to provide us with a solution that will provide the required result."
   ]
  },
  {
   "cell_type": "code",
   "execution_count": null,
   "metadata": {},
   "outputs": [],
   "source": [
    "z3.solve(_.path + [zi == 65])"
   ]
  },
  {
   "cell_type": "markdown",
   "metadata": {},
   "source": [
    "Similarly, we can convert the ASCII value back to a single character string using `zchr()`"
   ]
  },
  {
   "cell_type": "code",
   "execution_count": null,
   "metadata": {},
   "outputs": [],
   "source": [
    "def zchr(info, i):\n",
    "    sn = 'string_%d' % fresh_name()\n",
    "    s = z3.String(sn)\n",
    "    info[0][sn] = 'String'\n",
    "    z = z3.And([s == z3.Unit(i), z3.Length(s) == 1])\n",
    "    info[1].append(z)\n",
    "    return s"
   ]
  },
  {
   "cell_type": "markdown",
   "metadata": {},
   "source": [
    "For using it, we first define a bitvector that is 8 bits long."
   ]
  },
  {
   "cell_type": "code",
   "execution_count": null,
   "metadata": {},
   "outputs": [],
   "source": [
    "i = z3.BitVec('bv_%d' % fresh_name(), 8)"
   ]
  },
  {
   "cell_type": "markdown",
   "metadata": {},
   "source": [
    "We can now retrieve the `chr()` representation as below."
   ]
  },
  {
   "cell_type": "code",
   "execution_count": null,
   "metadata": {},
   "outputs": [],
   "source": [
    "with ConcolicTracer() as _:\n",
    "    zc = zchr(_.info, i)"
   ]
  },
  {
   "cell_type": "code",
   "execution_count": null,
   "metadata": {},
   "outputs": [],
   "source": [
    "_.info"
   ]
  },
  {
   "cell_type": "markdown",
   "metadata": {},
   "source": [
    "As before, we can specify what the end result of calling `chr()` should be to get the original argument."
   ]
  },
  {
   "cell_type": "code",
   "execution_count": null,
   "metadata": {},
   "outputs": [],
   "source": [
    "z3.solve(_.path + [zc == z3.StringVal('a')])"
   ]
  },
  {
   "cell_type": "markdown",
   "metadata": {},
   "source": [
    "With these, we can now define our `zstr` class."
   ]
  },
  {
   "cell_type": "code",
   "execution_count": null,
   "metadata": {},
   "outputs": [],
   "source": [
    "class zstr(str):\n",
    "    def __new__(cls, info, zn, v):\n",
    "        return str.__new__(cls, v)\n",
    "\n",
    "    @classmethod\n",
    "    def create(cls, info, zn, v=None):\n",
    "        z = z3.String(zn)\n",
    "        zv = zstr(info, z, v)\n",
    "        info[0][zn] = 'String'\n",
    "        return zv\n",
    "\n",
    "    def __init__(self, info, z, v=None):\n",
    "        self.info, self.z, self.v = info, z, v\n",
    "        self._len = zint(info, z3.Length(z), len(v))\n",
    "\n",
    "    def zv(self, o):\n",
    "        return (o.z, o.v) if isinstance(o, zstr) else (z3.StringVal(o), o)\n",
    "\n",
    "    def __eq__(self, other):\n",
    "        z, v = self.zv(other)\n",
    "        return zbool(self.info, self.z == z, self.v == v)\n",
    "\n",
    "    def __req__(self, other):\n",
    "        return self.__eq__(other)"
   ]
  },
  {
   "cell_type": "markdown",
   "metadata": {},
   "source": [
    "The `zstr` class is used as follows."
   ]
  },
  {
   "cell_type": "code",
   "execution_count": null,
   "metadata": {},
   "outputs": [],
   "source": [
    "def tstr1(s):\n",
    "    if s == 'h':\n",
    "        return True\n",
    "    else:\n",
    "        return False"
   ]
  },
  {
   "cell_type": "code",
   "execution_count": null,
   "metadata": {},
   "outputs": [],
   "source": [
    "with ConcolicTracer() as _:\n",
    "    r = _[tstr1]('h')"
   ]
  },
  {
   "cell_type": "code",
   "execution_count": null,
   "metadata": {},
   "outputs": [],
   "source": [
    "_.info"
   ]
  },
  {
   "cell_type": "markdown",
   "metadata": {},
   "source": [
    "It works even if we have more than one character."
   ]
  },
  {
   "cell_type": "code",
   "execution_count": null,
   "metadata": {},
   "outputs": [],
   "source": [
    "def tstr1(s):\n",
    "    if s == 'hello':\n",
    "        return True\n",
    "    else:\n",
    "        return False"
   ]
  },
  {
   "cell_type": "code",
   "execution_count": null,
   "metadata": {},
   "outputs": [],
   "source": [
    "with ConcolicTracer() as _:\n",
    "    r = _[tstr1]('hello')"
   ]
  },
  {
   "cell_type": "code",
   "execution_count": null,
   "metadata": {},
   "outputs": [],
   "source": [
    "zeval(_)"
   ]
  },
  {
   "cell_type": "markdown",
   "metadata": {},
   "source": [
    "What if we need to concatenate two strings? We need additional helpers to accomplish that."
   ]
  },
  {
   "cell_type": "code",
   "execution_count": null,
   "metadata": {},
   "outputs": [],
   "source": [
    "class zstr(zstr):\n",
    "    def __add__(self, other):\n",
    "        z, v = self.zv(other)\n",
    "        return zstr(self.info, self.z + z, self.v + v)\n",
    "\n",
    "    def __radd__(self, other):\n",
    "        return self.__add__(other)"
   ]
  },
  {
   "cell_type": "markdown",
   "metadata": {},
   "source": [
    "Here is how it can be used. First, we create the wrapped arguments"
   ]
  },
  {
   "cell_type": "code",
   "execution_count": null,
   "metadata": {},
   "outputs": [],
   "source": [
    "with ConcolicTracer() as _:\n",
    "    v1, v2 = [zstr.create(_.info, 'arg_%d' % fresh_name(), s)\n",
    "              for s in ['hello', 'world']]\n",
    "    if (v1 + ' ' + v2) == 'hello world':\n",
    "        print('hello world')"
   ]
  },
  {
   "cell_type": "markdown",
   "metadata": {},
   "source": [
    "The addition of symbolic variables is preserved in `info`"
   ]
  },
  {
   "cell_type": "code",
   "execution_count": null,
   "metadata": {},
   "outputs": [],
   "source": [
    "_.info"
   ]
  },
  {
   "cell_type": "markdown",
   "metadata": {},
   "source": [
    "Similarly, accessing substrings also require extra help."
   ]
  },
  {
   "cell_type": "code",
   "execution_count": null,
   "metadata": {},
   "outputs": [],
   "source": [
    "class zstr(zstr):\n",
    "    def __getitem__(self, idx):\n",
    "        if isinstance(idx, slice):\n",
    "            start, stop, step = idx.indices(len(self.v))\n",
    "            assert step == 1  # for now\n",
    "            assert stop >= start  # for now\n",
    "            rz = z3.SubString(self.z, start, stop - start)\n",
    "            rv = self.v[idx]\n",
    "        elif isinstance(idx, int):\n",
    "            rz = z3.SubString(self.z, idx, 1)\n",
    "            rv = self.v[idx]\n",
    "        else:\n",
    "            assert False  # for now\n",
    "        return zstr(self.info, rz, rv)\n",
    "\n",
    "    def __iter__(self):\n",
    "        return zstr_iterator(self.info, self)"
   ]
  },
  {
   "cell_type": "markdown",
   "metadata": {},
   "source": [
    "We define the iterator as follows."
   ]
  },
  {
   "cell_type": "code",
   "execution_count": null,
   "metadata": {},
   "outputs": [],
   "source": [
    "class zstr_iterator():\n",
    "    def __init__(self, info, zstr):\n",
    "        self.info = info\n",
    "        self._zstr = zstr\n",
    "        self._str_idx = 0\n",
    "        self._str_max = zstr._len  # intz is not an _int_\n",
    "\n",
    "    def __next__(self):\n",
    "        if self._str_idx == self._str_max:  # intz#eq\n",
    "            raise StopIteration\n",
    "        c = self._zstr[self._str_idx]\n",
    "        self._str_idx += 1\n",
    "        return c\n",
    "\n",
    "    def __len__(self):\n",
    "        return self._len"
   ]
  },
  {
   "cell_type": "markdown",
   "metadata": {},
   "source": [
    "Here is how it can be used."
   ]
  },
  {
   "cell_type": "code",
   "execution_count": null,
   "metadata": {},
   "outputs": [],
   "source": [
    "def tstr2(s):\n",
    "    if s[0] == 'h' and s[1] == 'e' and s[3] == 'l':\n",
    "        return True\n",
    "    else:\n",
    "        return False"
   ]
  },
  {
   "cell_type": "code",
   "execution_count": null,
   "metadata": {},
   "outputs": [],
   "source": [
    "with ConcolicTracer() as _:\n",
    "    r = _[tstr2]('hello')"
   ]
  },
  {
   "cell_type": "code",
   "execution_count": null,
   "metadata": {},
   "outputs": [],
   "source": [
    "_.info"
   ]
  },
  {
   "cell_type": "code",
   "execution_count": null,
   "metadata": {},
   "outputs": [],
   "source": [
    "zeval(_)"
   ]
  },
  {
   "cell_type": "markdown",
   "metadata": {},
   "source": [
    "A major complication is supporting upper and lower methods."
   ]
  },
  {
   "cell_type": "code",
   "execution_count": null,
   "metadata": {},
   "outputs": [],
   "source": [
    "class zstr(zstr):\n",
    "    def upper(self):\n",
    "        empty = ''\n",
    "        ne = 'empty_%d' % fresh_name()\n",
    "        result = zstr.create(self.info, ne, empty)\n",
    "        self.info[1].append(z3.StringVal(empty) == result.z)\n",
    "        cdiff = (ord('a') - ord('A'))\n",
    "        for i in self:\n",
    "            oz = zord(self.info, i.z)\n",
    "            uz = zchr(self.info, oz - cdiff)\n",
    "            rz = z3.And([oz >= ord('a'), oz <= ord('z')])\n",
    "            ov = ord(i.v)\n",
    "            uv = chr(ov - cdiff)\n",
    "            rv = ov >= ord('a') and ov <= ord('z')\n",
    "            if zbool(self.info, rz, rv):\n",
    "                i = zstr(self.info, uz, uv)\n",
    "            else:\n",
    "                i = zstr(self.info, i.z, i.v)\n",
    "            result += i\n",
    "        return result"
   ]
  },
  {
   "cell_type": "code",
   "execution_count": null,
   "metadata": {},
   "outputs": [],
   "source": [
    "for name, fn in inspect.getmembers(str, callable):\n",
    "    if name in ['__format__', 'format_map', 'format',\n",
    "                '__mul__', '__rmul__', 'center', 'zfill', 'decode', 'encode']:\n",
    "        setattr(zstr, name, make_str_abort_wrapper(fn))"
   ]
  },
  {
   "cell_type": "markdown",
   "metadata": {},
   "source": [
    "Here is how it is used."
   ]
  },
  {
   "cell_type": "code",
   "execution_count": null,
   "metadata": {},
   "outputs": [],
   "source": [
    "def tstr3(s):\n",
    "    if s.upper() == 'H':\n",
    "        return True\n",
    "    else:\n",
    "        return False"
   ]
  },
  {
   "cell_type": "code",
   "execution_count": null,
   "metadata": {},
   "outputs": [],
   "source": [
    "with ConcolicTracer() as _:\n",
    "    r = _[tstr3]('h')"
   ]
  },
  {
   "cell_type": "code",
   "execution_count": null,
   "metadata": {},
   "outputs": [],
   "source": [
    "print(_.pred(True, True))"
   ]
  },
  {
   "cell_type": "markdown",
   "metadata": {},
   "source": [
    "The definition of `BitVec` variables are slightly different. Hence, we update `zeval()`"
   ]
  },
  {
   "cell_type": "code",
   "execution_count": null,
   "metadata": {},
   "outputs": [],
   "source": [
    "def zeval_py(path, cc):\n",
    "    for decl in cc.decls:\n",
    "        if cc.decls[decl] == 'BitVec':\n",
    "            v = \"z3.%s('%s', 8)\" % (cc.decls[decl], decl)\n",
    "        else:\n",
    "            v = \"z3.%s('%s')\" % (cc.decls[decl], decl)\n",
    "        exec(v)\n",
    "    s = z3.Solver()\n",
    "    s.add(z3.And(path))\n",
    "    if s.check() != z3.sat:\n",
    "        return 'No solution'\n",
    "    m = s.model()\n",
    "    solutions = {d.name(): m[d] for d in m.decls()}\n",
    "    my_args = {k: solutions.get(cc.fn_args[k], None) for k in cc.fn_args}\n",
    "    return my_args"
   ]
  },
  {
   "cell_type": "code",
   "execution_count": null,
   "metadata": {},
   "outputs": [],
   "source": [
    "zeval(_)"
   ]
  },
  {
   "cell_type": "markdown",
   "metadata": {},
   "source": [
    "Here is a larger example using `upper()`"
   ]
  },
  {
   "cell_type": "code",
   "execution_count": null,
   "metadata": {},
   "outputs": [],
   "source": [
    "def tstr4(s):\n",
    "    if s.upper() == 'HELLO WORLD':\n",
    "        return True\n",
    "    else:\n",
    "        return False"
   ]
  },
  {
   "cell_type": "code",
   "execution_count": null,
   "metadata": {},
   "outputs": [],
   "source": [
    "with ConcolicTracer() as _:\n",
    "    r = _[tstr4]('hello world')"
   ]
  },
  {
   "cell_type": "code",
   "execution_count": null,
   "metadata": {},
   "outputs": [],
   "source": [
    "print(_.pred(True, True))"
   ]
  },
  {
   "cell_type": "code",
   "execution_count": null,
   "metadata": {},
   "outputs": [],
   "source": [
    "zeval(_, direct=True)"
   ]
  },
  {
   "cell_type": "code",
   "execution_count": null,
   "metadata": {},
   "outputs": [],
   "source": [
    "!z3 _.smt"
   ]
  },
  {
   "cell_type": "markdown",
   "metadata": {},
   "source": [
    "We define `startswith()`."
   ]
  },
  {
   "cell_type": "code",
   "execution_count": null,
   "metadata": {},
   "outputs": [],
   "source": [
    "class zstr(zstr):\n",
    "    def startswith(self, other, beg=0, end=None):\n",
    "        assert end is None  # for now\n",
    "        assert isinstance(beg, int)  # for now\n",
    "        zb = z3.IntVal(beg)\n",
    "\n",
    "        others = other if isinstance(other, tuple) else (other, )\n",
    "\n",
    "        last = False\n",
    "        for o in others:\n",
    "            z, v = self.zv(o)\n",
    "            r = z3.IndexOf(self.z, z, zb)\n",
    "            last = zbool(self.info, r == zb, self.v.startswith(v))\n",
    "            if last:\n",
    "                return last\n",
    "        return last"
   ]
  },
  {
   "cell_type": "markdown",
   "metadata": {},
   "source": [
    "We also define `find()`"
   ]
  },
  {
   "cell_type": "code",
   "execution_count": null,
   "metadata": {},
   "outputs": [],
   "source": [
    "class zint(zint):\n",
    "    def __ge__(self, other):\n",
    "        if self > other or self == other:\n",
    "            return True\n",
    "        return False"
   ]
  },
  {
   "cell_type": "code",
   "execution_count": null,
   "metadata": {},
   "outputs": [],
   "source": [
    "class zstr(zstr):\n",
    "    def find(self, other, beg=0, end=None):\n",
    "        assert end is None  # for now\n",
    "        assert isinstance(beg, int)  # for now\n",
    "        zb = z3.IntVal(beg)\n",
    "        z, v = self.zv(other)\n",
    "        zi = z3.IndexOf(self.z, z, zb)\n",
    "        vi = self.v.find(v, beg, end)\n",
    "        return zint(self.info, zi, vi)"
   ]
  },
  {
   "cell_type": "markdown",
   "metadata": {},
   "source": [
    "Using it."
   ]
  },
  {
   "cell_type": "code",
   "execution_count": null,
   "metadata": {},
   "outputs": [],
   "source": [
    "with ConcolicTracer() as _:\n",
    "    v1 = zstr.create(_.info, 'arg_%d' % fresh_name(), 'hello')\n",
    "    if v1.find('e') >= 0:\n",
    "        print('found')"
   ]
  },
  {
   "cell_type": "code",
   "execution_count": null,
   "metadata": {},
   "outputs": [],
   "source": [
    "_.info"
   ]
  },
  {
   "cell_type": "code",
   "execution_count": null,
   "metadata": {},
   "outputs": [],
   "source": [
    "z3.solve(_.path)"
   ]
  },
  {
   "cell_type": "markdown",
   "metadata": {},
   "source": [
    "We are now ready to target our `DB` class. Hash functions are difficult to handle directly (because it relies on internal C functions). Hence we modify `table` slightly."
   ]
  },
  {
   "cell_type": "code",
   "execution_count": null,
   "metadata": {},
   "outputs": [],
   "source": [
    "class ConcolicDB(DB):\n",
    "    def table(self, t_name):\n",
    "        for k, v in self.db:\n",
    "            if t_name == k:\n",
    "                return v\n",
    "        raise SQLException('Table (%s) was not found' % repr(t_name))"
   ]
  },
  {
   "cell_type": "markdown",
   "metadata": {},
   "source": [
    "To make it easy, we define a single function `db_select` that directly invokes `db.sql`."
   ]
  },
  {
   "cell_type": "code",
   "execution_count": null,
   "metadata": {},
   "outputs": [],
   "source": [
    "def db_select(s):\n",
    "    try:\n",
    "        my_db = ConcolicDB()\n",
    "        my_db.db = [(k, v) for (k, v) in db.db.items()]\n",
    "        r = my_db.sql(s)\n",
    "        return r\n",
    "    except:\n",
    "        traceback.print_exc()\n",
    "        return None"
   ]
  },
  {
   "cell_type": "code",
   "execution_count": null,
   "metadata": {},
   "outputs": [],
   "source": [
    "with ConcolicTracer() as _:\n",
    "    _[db_select]('select kind from inventory')"
   ]
  },
  {
   "cell_type": "code",
   "execution_count": null,
   "metadata": {},
   "outputs": [],
   "source": [
    "print(_.pred(True, True))"
   ]
  },
  {
   "cell_type": "code",
   "execution_count": null,
   "metadata": {},
   "outputs": [],
   "source": [
    "zeval(_, direct=True)"
   ]
  },
  {
   "cell_type": "code",
   "execution_count": null,
   "metadata": {},
   "outputs": [],
   "source": [
    "!cat _.smt"
   ]
  },
  {
   "cell_type": "code",
   "execution_count": null,
   "metadata": {},
   "outputs": [],
   "source": [
    "!z3 _.smt"
   ]
  },
  {
   "cell_type": "markdown",
   "metadata": {},
   "source": [
    "__Note:__ If you get _unknown_ here, it means that the Z3 SMT solver gave up before it reached an answer. That is perfectly fine."
   ]
  },
  {
   "cell_type": "markdown",
   "metadata": {},
   "source": [
    "### Fuzzing with constraints\n",
    "\n",
    "The concolic framework can be used directly in fuzzing. First, we extend our `TaintedGrammarFuzzer` with a few helper methods."
   ]
  },
  {
   "cell_type": "code",
   "execution_count": null,
   "metadata": {},
   "outputs": [],
   "source": [
    "class CGrammarFuzzer(TaintedGrammarFuzzer):\n",
    "    def tree_to_string(self, tree):\n",
    "        symbol, children, *_ = tree\n",
    "        e = ostr('')\n",
    "        if children:\n",
    "            return e.join([self.tree_to_string(c) for c in children])\n",
    "        else:\n",
    "            return e if symbol in self.grammar else symbol\n",
    "\n",
    "    def prune_tree(self, tree, tokens):\n",
    "        name, children = tree\n",
    "        children = self.coalesce(children)\n",
    "        if name in tokens:\n",
    "            return (name, [(self.tree_to_string(tree), [])])\n",
    "        else:\n",
    "            return (name, [self.prune_tree(c, tokens) for c in children])\n",
    "\n",
    "    def coalesce(self, children):\n",
    "        last = ostr('')\n",
    "        new_lst = []\n",
    "        for cn, cc in children:\n",
    "            if cn not in self.grammar:\n",
    "                last += cn\n",
    "            else:\n",
    "                if last:\n",
    "                    new_lst.append((last, []))\n",
    "                    last = ostr('')\n",
    "                new_lst.append((cn, cc))\n",
    "        if last:\n",
    "            new_lst.append((last, []))\n",
    "        return new_lst"
   ]
  },
  {
   "cell_type": "markdown",
   "metadata": {},
   "source": [
    "We can now use the fuzzer to produce inputs for our DB."
   ]
  },
  {
   "cell_type": "code",
   "execution_count": null,
   "metadata": {},
   "outputs": [],
   "source": [
    "tgf = CGrammarFuzzer(INVENTORY_GRAMMAR)\n",
    "qtree = tgf.fuzz_tree()\n",
    "query = tgf.tree_to_string(qtree)\n",
    "\n",
    "with ExpectError():\n",
    "    print(repr(query))\n",
    "    with ConcolicTracer() as _:\n",
    "        res = _[db_select](str(query))\n",
    "    print(repr(res))\n",
    "    print(_.pred(True, True))"
   ]
  },
  {
   "cell_type": "markdown",
   "metadata": {},
   "source": [
    "Our fuzzer returns with an exception. It is unable to find the specified table. Let us examine the predicates it encountered."
   ]
  },
  {
   "cell_type": "code",
   "execution_count": null,
   "metadata": {},
   "outputs": [],
   "source": [
    "for i, p in enumerate(_.path):\n",
    "    print(i, p)"
   ]
  },
  {
   "cell_type": "markdown",
   "metadata": {},
   "source": [
    "Note that we can obtain constraints that are not present in the grammar from using the `ConcolicTracer`. In particular, see how we are able to obtain the condition that the table needs to be `inventory` (8) for the fuzzing to succeed."
   ]
  },
  {
   "cell_type": "markdown",
   "metadata": {},
   "source": [
    "How do we lift these to the grammar? and in particular how do we do it automatically? One option we have is to simply switch the last predicate obtained. In our case, the last predicate is (6). Can we simply invert the predicate and solve it again?"
   ]
  },
  {
   "cell_type": "code",
   "execution_count": null,
   "metadata": {},
   "outputs": [],
   "source": [
    "new_path = _.path[0:-1] + [z3.Not(_.path[-1])]"
   ]
  },
  {
   "cell_type": "code",
   "execution_count": null,
   "metadata": {},
   "outputs": [],
   "source": [
    "new_ = ConcolicTracer((_.decls, new_path))\n",
    "new_.fn = _.fn\n",
    "new_.fn_args = _.fn_args"
   ]
  },
  {
   "cell_type": "code",
   "execution_count": null,
   "metadata": {},
   "outputs": [],
   "source": [
    "zeval(new_, direct=True)"
   ]
  },
  {
   "cell_type": "code",
   "execution_count": null,
   "metadata": {},
   "outputs": [],
   "source": [
    "!cat _.smt"
   ]
  },
  {
   "cell_type": "code",
   "execution_count": null,
   "metadata": {},
   "outputs": [],
   "source": [
    "!z3 _.smt"
   ]
  },
  {
   "cell_type": "markdown",
   "metadata": {},
   "source": [
    "Indeed, this will not work as the string lengths being compared to are different."
   ]
  },
  {
   "cell_type": "code",
   "execution_count": null,
   "metadata": {},
   "outputs": [],
   "source": [
    "print(_.path[-1])\n",
    "z3.solve(z3.Not(_.path[-1]))"
   ]
  },
  {
   "cell_type": "markdown",
   "metadata": {},
   "source": [
    "A better idea is to investigate what _string_ comparisons are being made, and associate that with the corresponding nodes in the grammar. Let us examine our derivation tree (pruned to avoid recursive structures, and to focus on important parts)."
   ]
  },
  {
   "cell_type": "code",
   "execution_count": null,
   "metadata": {},
   "outputs": [],
   "source": [
    "dt = tgf.prune_tree(qtree, ['<assignments>', '<names>',\n",
    "                            '<literals>', '<exprs>', '<bexpr>', '<table>'])\n",
    "dt"
   ]
  },
  {
   "cell_type": "markdown",
   "metadata": {},
   "source": [
    "Can we identify which part of the input was supplied by which part of the grammar? We define `span()` that can recover this information from the derivation tree."
   ]
  },
  {
   "cell_type": "code",
   "execution_count": null,
   "metadata": {},
   "outputs": [],
   "source": [
    "def span(node, g, node_start=0):\n",
    "    hm = {}\n",
    "    k, cs = node\n",
    "    end_i = node_start\n",
    "    new_cs = []\n",
    "    for c in cs:\n",
    "        chm, (ck, child_start, child_end, gcs) = span(c, g, end_i)\n",
    "        new_cs.append((ck, child_start, child_end, gcs))\n",
    "        end_i = child_end\n",
    "        hm.update(chm)\n",
    "    node_end = end_i if cs else node_start + len(k)\n",
    "    if k in g and k != START_SYMBOL:\n",
    "        hm[k] = (node_start, node_end - node_start)\n",
    "    return hm, (k, node_start, node_end, new_cs)"
   ]
  },
  {
   "cell_type": "markdown",
   "metadata": {},
   "source": [
    "We use it as follows"
   ]
  },
  {
   "cell_type": "code",
   "execution_count": null,
   "metadata": {},
   "outputs": [],
   "source": [
    "span_hm, _n = span(dt, INVENTORY_GRAMMAR)"
   ]
  },
  {
   "cell_type": "code",
   "execution_count": null,
   "metadata": {},
   "outputs": [],
   "source": [
    "span_hm"
   ]
  },
  {
   "cell_type": "markdown",
   "metadata": {},
   "source": [
    "We can check if we got the right values as follows."
   ]
  },
  {
   "cell_type": "code",
   "execution_count": null,
   "metadata": {},
   "outputs": [],
   "source": [
    "print(\"query:\", query)\n",
    "for k in span_hm:\n",
    "    start, l = span_hm[k]\n",
    "    print(k, query[start:start + l])"
   ]
  },
  {
   "cell_type": "markdown",
   "metadata": {},
   "source": [
    "Next, we need to obtain all the comparisons made in each predicate. For that, we define two helper functions. The first is `unwrap_substrings()` that translates multiple calls to `z3.SubString` and returns the start, and length of the given z3 string expression."
   ]
  },
  {
   "cell_type": "code",
   "execution_count": null,
   "metadata": {},
   "outputs": [],
   "source": [
    "def unwrap_substrings(s):\n",
    "    assert s.decl().name() == 'str.substr'\n",
    "    cs, frm, l = s.children()\n",
    "    if cs.decl().name() == 'str.substr':\n",
    "        newfrm, _l = unwrap_substrings(cs)\n",
    "        return (frm.as_long() + newfrm, l.as_long())\n",
    "    else:\n",
    "        return (frm.as_long(), l.as_long())"
   ]
  },
  {
   "cell_type": "markdown",
   "metadata": {},
   "source": [
    "Next, we define `traverse_z3()` that traverses a given z3 string expression, and collects all direct string comparisons to a substring of the original argument."
   ]
  },
  {
   "cell_type": "code",
   "execution_count": null,
   "metadata": {},
   "outputs": [],
   "source": [
    "def traverse_z3(p, hm):\n",
    "    n = p.decl().name()\n",
    "    if n == 'not':\n",
    "        return traverse_z3(p.children()[0], hm)\n",
    "    elif n == '=':\n",
    "        i, j = p.children()\n",
    "        if isinstance(i, (int, z3.IntNumRef)):\n",
    "            return traverse_z3(j, hm)\n",
    "        elif isinstance(j, (int, z3.IntNumRef)):\n",
    "            return traverse_z3(i, hm)\n",
    "        else:\n",
    "            if i.is_string() and j.is_string():\n",
    "                if i.is_string_value():\n",
    "                    hm[i.as_string()[1:-1]] = unwrap_substrings(j)\n",
    "                elif j.is_string_value():\n",
    "                    hm[j.as_string()[1:-1]] = unwrap_substrings(i)\n",
    "            else:\n",
    "                assert False  # for now\n",
    "    elif n == '<' or n == '>':\n",
    "        i, j = p.children()\n",
    "        if isinstance(i, (int, z3.IntNumRef)):\n",
    "            return traverse_z3(j, hm)\n",
    "        elif isinstance(j, (int, z3.IntNumRef)):\n",
    "            return traverse_z3(i, hm)\n",
    "        else:\n",
    "            assert False\n",
    "    return p"
   ]
  },
  {
   "cell_type": "code",
   "execution_count": null,
   "metadata": {},
   "outputs": [],
   "source": [
    "comparisons = {}\n",
    "for p in _.path:\n",
    "    traverse_z3(p, comparisons)\n",
    "comparisons"
   ]
  },
  {
   "cell_type": "markdown",
   "metadata": {},
   "source": [
    "All that we need now is to declare string variables that match the substrings in `comparisons`, and solve for them for each item in the path. For that, we define `find_alternatives()`."
   ]
  },
  {
   "cell_type": "code",
   "execution_count": null,
   "metadata": {},
   "outputs": [],
   "source": [
    "def find_alternatives(spans, cmp):\n",
    "    alts = {}\n",
    "    for key in spans:\n",
    "        start, l = spans[key]\n",
    "        rset = set(range(start, start + l))\n",
    "        for ckey in cmp:\n",
    "            cstart, cl = cmp[ckey]\n",
    "            cset = set(range(cstart, cstart + cl))\n",
    "            # if rset.issubset(cset): <- ignoring subsets for now.\n",
    "            if rset == cset:\n",
    "                if key not in alts:\n",
    "                    alts[key] = set()\n",
    "                alts[key].add(ckey)\n",
    "    return alts"
   ]
  },
  {
   "cell_type": "markdown",
   "metadata": {},
   "source": [
    "We use it as follows."
   ]
  },
  {
   "cell_type": "code",
   "execution_count": null,
   "metadata": {},
   "outputs": [],
   "source": [
    "alternatives = find_alternatives(span_hm, comparisons)\n",
    "alternatives"
   ]
  },
  {
   "cell_type": "markdown",
   "metadata": {},
   "source": [
    "So, we have our alternatives for each key in the grammar. We can now update our grammar as follows."
   ]
  },
  {
   "cell_type": "code",
   "execution_count": null,
   "metadata": {},
   "outputs": [],
   "source": [
    "INVENTORY_GRAMMAR_NEW = dict(INVENTORY_GRAMMAR)"
   ]
  },
  {
   "cell_type": "code",
   "execution_count": null,
   "metadata": {},
   "outputs": [],
   "source": [
    "for k in alternatives:\n",
    "    INVENTORY_GRAMMAR_NEW[k] = INVENTORY_GRAMMAR_NEW[k] + list(alternatives[k])"
   ]
  },
  {
   "cell_type": "markdown",
   "metadata": {},
   "source": [
    "We made a choice here. We could have completely overwritten the definition of `<table>` . Instead, we added our new alternatives to the existing definition. This way, our fuzzer will also attempt other values for `<table>` once in a while."
   ]
  },
  {
   "cell_type": "code",
   "execution_count": null,
   "metadata": {},
   "outputs": [],
   "source": [
    "INVENTORY_GRAMMAR_NEW['<table>']"
   ]
  },
  {
   "cell_type": "markdown",
   "metadata": {},
   "source": [
    "Let us try fuzzing with our new grammar."
   ]
  },
  {
   "cell_type": "code",
   "execution_count": null,
   "metadata": {},
   "outputs": [],
   "source": [
    "gf = CGrammarFuzzer(INVENTORY_GRAMMAR_NEW)\n",
    "qtree = gf.fuzz_tree()\n",
    "query = ostr(gf.tree_to_string(qtree))\n",
    "try:\n",
    "    print(repr(query))\n",
    "    with ConcolicTracer() as _:\n",
    "        res = _[db_select](str(query))\n",
    "    print(repr(res))\n",
    "    print(_.pred(True, True))\n",
    "except SQLException as e:\n",
    "    print(e)\n",
    "except:\n",
    "    traceback.print_exc()"
   ]
  },
  {
   "cell_type": "markdown",
   "metadata": {},
   "source": [
    "That is, we were able to reach the dangerous method `my_eval()`.\n",
    "In effect, what we have done is to lift parts of predicates to the grammar. The new grammar can generate inputs that reach deeper into the program than before. Note that we have only handled the equality predicate. One can also lift the '<' and '>' comparison operators to the grammar if required."
   ]
  },
  {
   "cell_type": "markdown",
   "metadata": {},
   "source": [
    "### Limitations"
   ]
  },
  {
   "cell_type": "markdown",
   "metadata": {},
   "source": [
    "As with dynamic taint analysis, implicit control flow can obscure the predicates encountered during concolic execution. Similarly, calls to internal C functions can cause the symbolic information to be discarded, and only partial information may be obtained."
   ]
  },
  {
   "cell_type": "markdown",
   "metadata": {
    "button": false,
    "new_sheet": true,
    "run_control": {
     "read_only": false
    }
   },
   "source": [
    "## Lessons Learned\n",
    "\n",
    "* String-based and character-based taints allow to dynamically track the information flow form input to the internals of a system and back to the output.\n",
    "\n",
    "* Checking taints allows to discover untrusted inputs and information leakage at runtime.\n",
    "\n",
    "* Data conversions and implicit data flow may strip taint information; the resulting untainted strings should be treated as having the worst possible taint.\n",
    "\n",
    "* Taints can be used in conjunction with fuzzing to provide a more robust indication of incorrect behavior than to simply rely on program crashes.\n",
    "\n",
    "* Concolic execution can often provide more information than taint analysis with respect to the program behavior. However, this comes at a much larger runtime cost. Hence, unlike taint analysis, real-time analysis is often not possible.\n",
    "\n",
    "* Similar to taint analysis, concolic execution also suffers from limitations such as indirect control flow and internal function calls.\n",
    "\n",
    "* Predicates from concolic execution can be used in conjunction with fuzzing to provide an even more robust indication of incorrect behavior than taints, and can be used to create grammars that are better at producing valid inputs."
   ]
  },
  {
   "cell_type": "markdown",
   "metadata": {
    "button": false,
    "new_sheet": false,
    "run_control": {
     "read_only": false
    }
   },
   "source": [
    "## Next Steps\n",
    "\n",
    "A costlier but stronger alternative to concolic fuzzing is [symbolic fuzzing](SymbolicFuzzer.ipynb). Similarly, [search based fuzzing](SearchBasedFuzzer.ipynb) can often provide a cheaper exploration strategy than relying on SMT solvers to provide inputs slightly different from the current path. The chapter on [oracles](Oracles.ipynb) discusses how to provide better oracles in detail."
   ]
  },
  {
   "cell_type": "markdown",
   "metadata": {},
   "source": [
    "## Background\n",
    "\n",
    "Taint analysis on Python using a library approach as we implemented in this chapter was discussed by Conti et al. \\cite{Conti2010}. The concolic execution technique used in this chapter was pioneered by PeerCheck \\cite{PeerCheck}, and Python Error Finder \\cite{Barsotti2018}."
   ]
  },
  {
   "cell_type": "markdown",
   "metadata": {
    "button": false,
    "new_sheet": true,
    "run_control": {
     "read_only": false
    }
   },
   "source": [
    "## Exercises"
   ]
  },
  {
   "cell_type": "markdown",
   "metadata": {},
   "source": [
    "For example, say we want to compute the binomial coefficient by the following formulas\n",
    "\n",
    "$$ \n",
    "^nP_k=\\frac{n!}{(n-k)!}\n",
    "$$\n",
    "\n",
    "$$\n",
    "\\binom nk=\\,^nC_k=\\frac{^nP_k}{k!}\n",
    "$$\n"
   ]
  },
  {
   "cell_type": "code",
   "execution_count": null,
   "metadata": {},
   "outputs": [],
   "source": [
    "def factorial(n):\n",
    "    v = 1\n",
    "    while n != 0:\n",
    "        v = v * n\n",
    "        n -= 1\n",
    "    return v\n",
    "\n",
    "\n",
    "def permutation(n, k):\n",
    "    return factorial(n) / factorial(n - k)\n",
    "\n",
    "\n",
    "def combination(n, k):\n",
    "    return permutation(n, k) / factorial(k)\n",
    "\n",
    "\n",
    "def binomial(n, k):\n",
    "    if n < 0 or k < 0 or n < k:\n",
    "        raise Exception('Invalid values')\n",
    "    return combination(n, k)"
   ]
  },
  {
   "cell_type": "code",
   "execution_count": null,
   "metadata": {},
   "outputs": [],
   "source": [
    "binomial(4, 2)"
   ]
  },
  {
   "cell_type": "code",
   "execution_count": null,
   "metadata": {},
   "outputs": [],
   "source": []
  }
 ],
 "metadata": {
  "ipub": {
   "bibliography": "fuzzingbook.bib",
   "toc": true
  },
  "kernelspec": {
   "display_name": "Python 3",
   "language": "python",
   "name": "python3"
  },
  "language_info": {
   "codemirror_mode": {
    "name": "ipython",
    "version": 3
   },
   "file_extension": ".py",
   "mimetype": "text/x-python",
   "name": "python",
   "nbconvert_exporter": "python",
   "pygments_lexer": "ipython3",
   "version": "3.6.6"
  },
  "toc": {
   "base_numbering": 1,
   "nav_menu": {},
   "number_sections": true,
   "sideBar": true,
   "skip_h1_title": true,
   "title_cell": "",
   "title_sidebar": "Contents",
   "toc_cell": false,
   "toc_position": {
    "height": "calc(100% - 180px)",
    "left": "10px",
    "top": "150px",
    "width": "429px"
   },
   "toc_section_display": true,
   "toc_window_display": true
  },
  "toc-autonumbering": false,
  "varInspector": {
   "cols": {
    "lenName": 16,
    "lenType": 16,
    "lenVar": 40
   },
   "kernels_config": {
    "python": {
     "delete_cmd_postfix": "",
     "delete_cmd_prefix": "del ",
     "library": "var_list.py",
     "varRefreshCmd": "print(var_dic_list())"
    },
    "r": {
     "delete_cmd_postfix": ") ",
     "delete_cmd_prefix": "rm(",
     "library": "var_list.r",
     "varRefreshCmd": "cat(var_dic_list()) "
    }
   },
   "types_to_exclude": [
    "module",
    "function",
    "builtin_function_or_method",
    "instance",
    "_Feature"
   ],
   "window_display": false
  }
 },
 "nbformat": 4,
 "nbformat_minor": 2
}
